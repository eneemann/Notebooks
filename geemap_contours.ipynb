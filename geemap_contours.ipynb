{
 "cells": [
  {
   "cell_type": "code",
   "execution_count": 1,
   "metadata": {},
   "outputs": [
    {
     "data": {
      "text/html": [
       "<p>To authorize access needed by Earth Engine, open the following\n",
       "        URL in a web browser and follow the instructions:</p>\n",
       "        <p><a href=https://accounts.google.com/o/oauth2/auth?client_id=517222506229-vsmmajv00ul0bs7p89v5m89qs8eb9359.apps.googleusercontent.com&scope=https%3A%2F%2Fwww.googleapis.com%2Fauth%2Fearthengine+https%3A%2F%2Fwww.googleapis.com%2Fauth%2Fdevstorage.full_control&redirect_uri=urn%3Aietf%3Awg%3Aoauth%3A2.0%3Aoob&response_type=code&code_challenge=3HMKTphdlmpPKVj1IdNTSmbTUew0R1P123rAlUvSrKM&code_challenge_method=S256>https://accounts.google.com/o/oauth2/auth?client_id=517222506229-vsmmajv00ul0bs7p89v5m89qs8eb9359.apps.googleusercontent.com&scope=https%3A%2F%2Fwww.googleapis.com%2Fauth%2Fearthengine+https%3A%2F%2Fwww.googleapis.com%2Fauth%2Fdevstorage.full_control&redirect_uri=urn%3Aietf%3Awg%3Aoauth%3A2.0%3Aoob&response_type=code&code_challenge=3HMKTphdlmpPKVj1IdNTSmbTUew0R1P123rAlUvSrKM&code_challenge_method=S256</a></p>\n",
       "        <p>The authorization workflow will generate a code, which you\n",
       "        should paste in the box below</p>\n",
       "        "
      ],
      "text/plain": [
       "<IPython.core.display.HTML object>"
      ]
     },
     "metadata": {},
     "output_type": "display_data"
    },
    {
     "name": "stdout",
     "output_type": "stream",
     "text": [
      "Enter verification code: 4/1AfDhmrjlNoO6Cv0X7k_895q2xpwOZVVk8bb1IvBInqiA1kXUQaQqeLUSons\n",
      "\n",
      "Successfully saved authorization token.\n"
     ]
    }
   ],
   "source": [
    "# Import Libraries\n",
    "import os\n",
    "import ee\n",
    "import geemap as emap\n",
    "\n",
    "try:\n",
    "    ee.Initialize()\n",
    "except Exception as e:\n",
    "    ee.Authenticate()\n",
    "    ee.Initialize() "
   ]
  },
  {
   "cell_type": "code",
   "execution_count": 48,
   "metadata": {
    "scrolled": false
   },
   "outputs": [
    {
     "data": {
      "application/vnd.jupyter.widget-view+json": {
       "model_id": "be7578f41e474d8e91810be4f9767ccd",
       "version_major": 2,
       "version_minor": 0
      },
      "text/plain": [
       "Map(center=[41.0918, -112.4451], controls=(WidgetControl(options=['position'], widget=HBox(children=(ToggleBut…"
      ]
     },
     "metadata": {},
     "output_type": "display_data"
    }
   ],
   "source": [
    "# Initialize Map\n",
    "add_google_map = False\n",
    "\n",
    "Map = emap.Map(center=[41.0918,-112.4451], zoom=9)\n",
    "# Map.add_basemap('SATELLITE') # Add Google Map\n",
    "Map"
   ]
  },
  {
   "cell_type": "code",
   "execution_count": null,
   "metadata": {},
   "outputs": [],
   "source": [
    "# Get PRISM data\n",
    "dataset = ee.ImageCollection('OREGONSTATE/PRISM/AN81m').filterDate('2020-01-01', '2020-03-31')\n",
    "precipitation = dataset.select('ppt')"
   ]
  },
  {
   "cell_type": "code",
   "execution_count": 53,
   "metadata": {},
   "outputs": [],
   "source": [
    "# Calculate mean of selected date range\n",
    "mean = precipitation.mean()\n",
    "precipitationVis = {'min': 0.0,\n",
    "                    'max': 100.0,\n",
    "                    'palette': ['red', 'yellow', 'green', 'cyan', 'purple']}\n",
    "Map.addLayer(precipitation, precipitationVis, 'Precipitation')"
   ]
  },
  {
   "cell_type": "code",
   "execution_count": 57,
   "metadata": {},
   "outputs": [],
   "source": [
    "# Create contours\n",
    "lines = ee.List.sequence(0, 150, 10)\n",
    " \n",
    "def create_contours(line):\n",
    "    mycontour = mean.convolve(ee.Kernel.gaussian(5, 3)) \\\n",
    "    .subtract(ee.Image.constant(line)).zeroCrossing() \\\n",
    "    .multiply(ee.Image.constant(line)).toFloat()\n",
    "\n",
    "    return mycontour.mask(mycontour)\n",
    "\n",
    "contourlines = lines.map(create_contours)\n",
    "\n",
    "contourlines = ee.ImageCollection(contourlines).mosaic()\n",
    "Map.addLayer(contourlines, {'min': 0, 'max': 150, 'palette':['ff0000', '00ff00']}, 'contours')\n",
    "# Map.addLayer(contourlines, {'min': 0, 'max': 150, 'palette':['black']}, 'contours')\n"
   ]
  }
 ],
 "metadata": {
  "kernelspec": {
   "display_name": "Python 3",
   "language": "python",
   "name": "python3"
  },
  "language_info": {
   "codemirror_mode": {
    "name": "ipython",
    "version": 3
   },
   "file_extension": ".py",
   "mimetype": "text/x-python",
   "name": "python",
   "nbconvert_exporter": "python",
   "pygments_lexer": "ipython3",
   "version": "3.7.8"
  }
 },
 "nbformat": 4,
 "nbformat_minor": 4
}
