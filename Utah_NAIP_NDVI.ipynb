{
 "cells": [
  {
   "cell_type": "code",
   "execution_count": null,
   "id": "incoming-publicity",
   "metadata": {},
   "outputs": [],
   "source": [
    "!pip install geemap"
   ]
  },
  {
   "cell_type": "code",
   "execution_count": 1,
   "id": "secret-evanescence",
   "metadata": {},
   "outputs": [],
   "source": [
    "# Import Libraries\n",
    "import ee\n",
    "import geemap\n",
    "\n",
    "#geemap.update_package()"
   ]
  },
  {
   "cell_type": "code",
   "execution_count": 3,
   "id": "responsible-fleece",
   "metadata": {
    "scrolled": true
   },
   "outputs": [],
   "source": [
    "# Initialize \n",
    "ee.Initialize()\n",
    "\n",
    "# Create a default map\n",
    "Map = geemap.Map()"
   ]
  },
  {
   "cell_type": "code",
   "execution_count": 4,
   "id": "ordinary-easter",
   "metadata": {},
   "outputs": [],
   "source": [
    "# Create map variables and parameters\n",
    "rgbPlot = {'bands': ['R', 'G', 'B'], min: 0, max: 255}\n",
    "\n",
    "ndviPlot = {'bands': ['NDVI'],\n",
    "            'min':-0.25,\n",
    "            'max':1.0,\n",
    "            'palette': ['SaddleBrown', 'DarkKhaki', 'LightGreen', 'DarkGreen']}\n",
    "nirPlot = {'bands': ['N', 'R', 'G'],\n",
    "           'min': 0,\n",
    "           'max': 255}\n",
    "\n",
    "# NDVI  = (NIR - RED)/(NIR + RED)\n",
    "def addNDVI(x):\n",
    "  ndvi = x.normalizedDifference(['N', 'R']).rename('NDVI')\n",
    "  return x.addBands(ndvi)"
   ]
  },
  {
   "cell_type": "code",
   "execution_count": 5,
   "id": "incoming-prior",
   "metadata": {},
   "outputs": [
    {
     "data": {
      "application/vnd.jupyter.widget-view+json": {
       "model_id": "4152f94e16354b368c33fad94338f309",
       "version_major": 2,
       "version_minor": 0
      },
      "text/plain": [
       "Map(center=[40.7781, -111.88819], controls=(WidgetControl(options=['position'], widget=HBox(children=(ToggleBu…"
      ]
     },
     "metadata": {},
     "output_type": "display_data"
    }
   ],
   "source": [
    "utah = ee.Geometry.Polygon(\n",
    "  [[[-114, 42],\n",
    "  [-114, 37],\n",
    "  [-109, 37],\n",
    "  [-109, 42]]])\n",
    "\n",
    "data = ee.Dictionary()\n",
    "\n",
    "# filter to state of Utah\n",
    "data = ee.ImageCollection('USDA/NAIP/DOQQ').select(['R', 'G', 'B', 'N']).filterDate('2016-01-01', '2016-12-31') \\\n",
    "    .filterBounds(utah).map(addNDVI)\n",
    "\n",
    "# Set up the map\n",
    "Map.addLayer(data, nirPlot, \"NIR 2018\")\n",
    "Map.addLayer(data, rgbPlot, \"RGB 2018\")\n",
    "Map.addLayer(data, ndviPlot, \"NDVI 2018\")\n",
    "Map.setCenter(-111.88819, 40.77810, zoom=16)\n",
    "\n",
    "# Display the map\n",
    "Map"
   ]
  },
  {
   "cell_type": "code",
   "execution_count": null,
   "id": "lesbian-portuguese",
   "metadata": {},
   "outputs": [],
   "source": []
  }
 ],
 "metadata": {
  "kernelspec": {
   "display_name": "Python 3",
   "language": "python",
   "name": "python3"
  },
  "language_info": {
   "codemirror_mode": {
    "name": "ipython",
    "version": 3
   },
   "file_extension": ".py",
   "mimetype": "text/x-python",
   "name": "python",
   "nbconvert_exporter": "python",
   "pygments_lexer": "ipython3",
   "version": "3.7.9"
  }
 },
 "nbformat": 4,
 "nbformat_minor": 5
}
